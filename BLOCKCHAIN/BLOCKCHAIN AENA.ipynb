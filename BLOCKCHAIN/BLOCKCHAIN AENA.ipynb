{
 "cells": [
  {
   "cell_type": "code",
   "execution_count": 1,
   "metadata": {},
   "outputs": [],
   "source": [
    "# Importamos las librerías necesarias\n",
    "import datetime      # Para trabajar con las fechas (cada bloque tiene su propio timestamp)\n",
    "import hashlib       # Para crear los hashes de los bloques, mediante el SHA256\n",
    "import json          # Para crear ficheros .json, muchas funciones antes de \"hashear\" estarán en este formato\n",
    "from flask import Flask   # Constructor para crear objetos tipo Flask\n",
    "from flask import jsonify  # Para convertir a .json y que Postman utilizará para interactuar con la cadena de bloques"
   ]
  },
  {
   "cell_type": "markdown",
   "metadata": {},
   "source": [
    "## Parte 1 - Crear la cadena de bloques"
   ]
  },
  {
   "cell_type": "markdown",
   "metadata": {},
   "source": [
    "Primero se define la clase `Blockchain`, que será el **bloque génesis**, es decir, el bloque con el que se inicializa la cadena de bloques y del que se originará toda la cadena en sí misma.\n",
    "\n",
    "NOTA: no confundir la función `create_block` con la de minar bloques. Para los bloques sucesivos de la cadena, primero hay que minarlos, es decir, resolver el puzzle criptográfico averiguando el NONCE con el que se crea un nuevo bloque y se obtiene la recompensa corresponde. Una vez minado un bloque, este se CREA mediante `create_block` y se añade a la cadena. \n",
    "\n",
    "A esta función se le pasan dos argumentos: el **Proof of Work** y el **hash previo** del bloque anterior.\n",
    "\n",
    "Respecto al problema criptográfico a resolver, no se van a poner muchos ceros a la izquierda, ya que mientras más ceros haya, más difícil será de resolver el problema. En el ejemplo de código, se pondrán **5 ceros** para que no tenga excesiva complejidad el problema a resolver. \n",
    "\n",
    "En la línea de código `hashlib.sha256()`, hay que procurar utilizar una operación **no simétrica**, ya que si es simétrica el problema será muy fácil de resolver (por ejemplo, no podemos sumar el hash previo y el hash actual, porque daría el mismo resultado a la inversa, y entraríamos en un bucle infinito). Tampoco debe ser una operación muy compleja, ya que si es muy enrevesada, se consumirá mucho tiempo en resolver el problema.\n",
    "\n",
    "A modo de prueba, se ha puesto la operación de `new_proof**2 - previous_proof**2`, que no es simétrica, ya que no se obtiene el mismo resultado con $5^2 - 2^2$ que con $2^2 - 5^2$. El resultado será **un número**, hay que pasar el resultado a `string`. Pero no vale con convertirlo, también hay que codificarlo mediante `.encode()`, para que el resultado pueda ser interpretado por el algoritmo SHA256. \n",
    "\n",
    "Dado que el algoritmo nos devolverá un valor codificado, a la salida de la ecuación criptográfica hay que añadir una función `hexdigest()`, que convertirá el valor en **hexadecimal**.\n",
    "\n",
    "En la función `def hash()`, el *bloque* es un diccionario, de modo que habrá que convertirlo a string codificado para poder suministrárselo al algoritmo SHA256. Pero no se va a codificar directamente en string como en la función `proof_of_work`, sino que se va a volcar el diccionario en un .JSON, porque el propio .JSON ya tiene la posibilidad de ser codificado directamente en un formato binario que se la pueda pasar como input al algoritmo SHA256. Con la función `json.dumps()` podemos hacer la conversión, en este caso, de diccionario a string, y luego mediante `.encode()` se codificar para que tenga el formato adecuado para el SHA256.\n",
    "\n",
    "Luego se crea una función para validar si la cadena de bloques es válida o no es válida, y para ello se comprueban dos cosas:\n",
    "  * Para cada bloque, hay que comprobar que el campo `previous_hash` con el hash del bloque inmediatamente anterior.\n",
    "  * Para cada uno de los bloques, hay que verificar la `proof_of_work`, es decir, si supera la ecuación algorítmica."
   ]
  },
  {
   "cell_type": "code",
   "execution_count": 2,
   "metadata": {},
   "outputs": [],
   "source": [
    "# PARTE 1: CREACIÓN DE LA CADENA DE BLOQUES\n",
    "\n",
    "class Blockchain: \n",
    "    \n",
    "    # Constructor de la cadena de bloques\n",
    "    def __init__(self):\n",
    "        self.chain = []      # Es una lista donde se almacenarán todos los bloques a medida que se vayan creando\n",
    "        self.create_block(proof = 1, previous_hash = '0')   # Se asigna el valor 1 ya que será el primer valor de la cadena\n",
    "                                                      # Como el bloque génesis no tiene hash previo, el valor será 0 (en char)\n",
    "    # Crear un nuevo bloque de la cadena  \n",
    "    def create_block(self, proof, previous_hash):\n",
    "        # Creamos un bloque que será un diccionario con claves y valores, para convertirlo fácilmente a .json\n",
    "        block = {'index' : len(self.chain)+1,   # Será la a longitud de la cadena añadiendo el nuevo bloque (+1) \n",
    "                 'timestamp' : str(datetime.datetime.now()),  # Se convierte a string para luego no tener problemas de formato\n",
    "                 'proof' : proof,           # El Proof of Work ya estará creado cuando se le pase a la función\n",
    "                 'previous_hash' : previous_hash}   # Lo mismo con el hash previo: ya estará creado\n",
    "        self.chain.append(block)\n",
    "        return block   # Así cuando se utilice Postman se podrán mostrar los datos del bloque creado\n",
    "    \n",
    "    # Obtener el último bloque de la cadena\n",
    "    def get_previous_block(self):\n",
    "        return self.chain[-1]      # Se obtiene el último bloque de la cadena\n",
    "    \n",
    "    # Prueba de Trabajo (PROOF OF WORK)\n",
    "    def proof_of_work(self, previous_proof):   # Se necesita la solución del problema previo porque se utilizará para crear el problema siguiente\n",
    "        new_proof = 1\n",
    "        check_proof = False   # Cuando se haya resuelto el problema criptográfico, tendrá valor TRUE\n",
    "        while check_proof is False:\n",
    "            hash_operation = hashlib.sha256(str(new_proof**2 - previous_proof**2).encode())\n",
    "            if hash_operation[:5] == '00000':\n",
    "                check_proof = True\n",
    "            else:\n",
    "                new_proof += 1  # Sumamos unidad a unidad hasta que se cumpla la condición (que el hash tenga 5 ceros)\n",
    "    \n",
    "    # FUNCIÓN DE HASH\n",
    "    def HASH(self, block):  # Dos argumentos: \"self\" para acceder a todo lo relativo a la clase y un bloque\n",
    "        encoded_block = json.dumps(block, sort_keys=True).encode()  # con sort_keys nos aseguramos que las claves del diccionario vengan en el mismo orden\n",
    "        return hashlib.sha256(encoded_block).hexdigest()  # Aquí se crear el hash con algoritmo SHA256, y hexdigest para que se vea en hexadecimal\n",
    "    \n",
    "    # COMPROBAR SI LA CADENA DE BLOQUES ES VÁLIDA\n",
    "    def is_chain_valid(self, chain):\n",
    "        previous_block = chain[0]  # Le asignamos el bloque que sabemos que siempre va a existir: el bloque génesis\n",
    "        block_index = 1  # El bloque génesis no hace falta comprobarlo, hay que comprobar el primer bloque después del inicial\n",
    "        while block_index < len(chain):  # Mientras el índice del bloque sea menor estricto (<) que la longitud de la cadena\n",
    "            block = chain[block_index]  # La cadena en la posición \"block_index\" nos da exactamente el bloque que vamos a procesar\n",
    "            if block['previous_hash'] != self.HASH(previous_block):\n",
    "                return False                            # No supera la primera condición\n",
    "            \n",
    "            previous_proof = previous_block['proof']   # El valor de la prueba previa\n",
    "            proof = block['proof']                     # El valor de la prueba actual\n",
    "            hash_operation = hashlib.sha256(str(proof**2 - previous_proof**2).encode())  \n",
    "            # Es la misma operación que en la función proof_of_work (solo hemos cambiado el nombre de la variable \"new_proof\" por \"proof\")\n",
    "            \n",
    "            if hash_operation[:5] != '00000': # Si las 5 primeras posiciones son distintas a 00000, la cadena será inválida\n",
    "                return False    # No supera la segunda condición (si el eslabón de la cadena es válido)\n",
    "            previous_block = block   # Si el bucle se supera con éxito, el bloque actual se convierte en el anterior\n",
    "            block_index += 1         # Como hemos avanzando un eslabón en la cadena, se añade una unidad al índice del bloque\n"
   ]
  },
  {
   "cell_type": "markdown",
   "metadata": {},
   "source": [
    "## Parte 2 - Minado de una cadena de bloques"
   ]
  },
  {
   "cell_type": "markdown",
   "metadata": {},
   "source": [
    "Esta segunda parte se va a dividir en dos subapartados:\n",
    "\n",
    "  * se va a crear **una aplicación web (web app)** basada en `Flask`, para poder interactuar con la blockchain, realizar peticiones a través de la interfaz de Postman, etc.\n",
    "  * se va a crear un objeto de la clase `blockchain`, es decir, **se va a crear una cadena de bloques**, aprovechando que ya tenemos la clase para hacerlo (Parte 1). \n",
    "  \n",
    "Esta cadena de bloques será un objeto que se va a instanciar de la clase `blockchain`, y será el que luego se va a utilizar para poner en producción, para sincronizar a través de `Flask` en una aplicación web en varios nodos.\n",
    "\n",
    "A partir de aquí, con `Flask` se podrán hacer dos peticiones: la primera será minar un bloque de la cadena y la segunda será obtener toda la cadena de bloques. (Documentación Flask: https://flask.palletsprojects.com/en/1.1.x/quickstart/ )\n",
    "\n",
    "La URL sobre la que funcionará (*Local Host*) en nuestra máquina en local será `http://127.0.0.1:5000`, donde $5000$ será el **puerto** de la URL. Al final de esta URL, se pueden añadir uno de los siguientes \"puntos base\" (o de ancla) según la petición que queramos hacer al servidor:\n",
    "\n",
    " * `/mine_block` será el \"punto de base\" (o de ancla) para la URL que se utilizará para Postman.\n",
    " * `/`\n",
    "\n",
    "En `methods`, se podrán usar dos argumentos: `GET` que sirve para **obtener** información, y `POST` que sirve para **crear** nueva información. Para poder interactuar con Postman, de momento solo se utilizará **GET**.\n",
    " \n",
    "Luego, para minar un bloque con la función `mine_block()` se necesitará el bloque previo, la prueba del bloque anterior, la prueba de trabajo del bloque actual, el hash previo y finalmente se creará el nuevo bloque `block`. Una vez creado un nuevo bloque, se mostrará por pantalla la **respuesta del servidor** (`response`), la cual contendrá todos los campos del diccionario con la información del bloque y añadirá una respuesta para notificar al usuario la creación de un nuevo bloque. ¿Por qué un diccionario? Porque cuando se hacen peticiones a través de *Web Service*, es el formato adecuado para poder darle a cada variable un nombre. \n",
    "\n",
    "Esta variable `response` contendrá las 4 variables del bloque + 1 variable \"respuesta\" para informar sobre el minado del nuevo bloque, la cual es un diccionario que se convertirá a un objeto .json (con la función `jsonify`) para que **Postman** pueda interpretar y mostrar al usuario cuando haya finalizado el proceso de minado del bloque.\n",
    "\n",
    "De acuerdo a los **códigos de estado de respuesta HTTP**, nos interesa mostrar el código **200**, que se emplea para indicar que la solicitud ha tenido éxito. https://developer.mozilla.org/es/docs/Web/HTTP/Status"
   ]
  },
  {
   "cell_type": "code",
   "execution_count": 4,
   "metadata": {},
   "outputs": [],
   "source": [
    "# PARTE 2 - MINADO DE UN BlOQUE DE LA CADENA\n",
    "\n",
    "#  Crear una aplicación web (web app)\n",
    "app = Flask(__name__)\n",
    "\n",
    "#  Crear una blockchain\n",
    "blockchain = Blockchain()\n",
    "app.config['JSONIFY_PRETTYPRINT_REGULAR'] = False\n",
    "\n",
    "#### ------------------------------------------------------------------------\n",
    "\n",
    "# PRIMERA PETICIÓN: minado de un nuevo bloque\n",
    "@app.route('/mine_block', methods = ['GET'])\n",
    "\n",
    "def mine_block():\n",
    "    previous_block = blockchain.get_previous_block()\n",
    "    previous_proof = previous_block['proof']\n",
    "    proof = blockchain.proof_of_work(previous_proof)\n",
    "    previous_hash = blockchain.hash(previous_block)\n",
    "    block = blockchain.create_block(proof, previous_hash)\n",
    "    # Una vez creado el bloque, añadimos una respuesta:\n",
    "    response = {'message' : 'Se ha minado un nuevo bloque',\n",
    "                'index' : block['index'],\n",
    "                'timestamp' : block['timestamp'],\n",
    "                'proof' : block['proof'],\n",
    "                'previous_hash' : block['previous_hash']}\n",
    "    return jsonify(response), 200\n",
    "\n",
    "#### ------------------------------------------------------------------------\n",
    "\n",
    "# SEGUNDA PETICIÓN: obtener la cadena de bloques entera\n",
    "@app.route('/get_chain', methods = ['GET'])\n",
    "\n",
    "def get_chain():  \n",
    "    response = {'chain' : blockchain.chain,\n",
    "                'longitud cadena' : len(blockchain.chain)}\n",
    "    \n",
    "    return jsonify(response), 200"
   ]
  },
  {
   "cell_type": "markdown",
   "metadata": {},
   "source": [
    "NOTA: si se obtiene un error `500 Internal Server Error`, hay que actualizar la librería Flask, reiniciar Spyder/Jupyter/etc y ejecutar la siguiente línea de código (se puede incluir con el resto del código):\n",
    "\n",
    "`app.config['JSONIFY_PRETTYPRINT_REGULAR'] = False`\n",
    "\n",
    "---"
   ]
  },
  {
   "cell_type": "markdown",
   "metadata": {},
   "source": [
    "## Ejecutar la app"
   ]
  },
  {
   "cell_type": "code",
   "execution_count": null,
   "metadata": {},
   "outputs": [
    {
     "name": "stdout",
     "output_type": "stream",
     "text": [
      " * Serving Flask app '__main__' (lazy loading)\n",
      " * Environment: production\n",
      "\u001b[31m   WARNING: This is a development server. Do not use it in a production deployment.\u001b[0m\n",
      "\u001b[2m   Use a production WSGI server instead.\u001b[0m\n",
      " * Debug mode: off\n"
     ]
    },
    {
     "name": "stderr",
     "output_type": "stream",
     "text": [
      " * Running on all addresses (0.0.0.0)\n",
      "   WARNING: This is a development server. Do not use it in a production deployment.\n",
      " * Running on http://127.0.0.1:5000\n",
      " * Running on http://192.168.42.233:5000 (Press CTRL+C to quit)\n",
      "127.0.0.1 - - [06/Jul/2022 01:10:27] \"GET /get_chain HTTP/1.1\" 200 -\n",
      "[2022-07-06 01:10:39,385] ERROR in app: Exception on /mine_block [GET]\n",
      "Traceback (most recent call last):\n",
      "  File \"C:\\Users\\romej\\anaconda3\\lib\\site-packages\\flask\\app.py\", line 2077, in wsgi_app\n",
      "    response = self.full_dispatch_request()\n",
      "  File \"C:\\Users\\romej\\anaconda3\\lib\\site-packages\\flask\\app.py\", line 1525, in full_dispatch_request\n",
      "    rv = self.handle_user_exception(e)\n",
      "  File \"C:\\Users\\romej\\anaconda3\\lib\\site-packages\\flask\\app.py\", line 1523, in full_dispatch_request\n",
      "    rv = self.dispatch_request()\n",
      "  File \"C:\\Users\\romej\\anaconda3\\lib\\site-packages\\flask\\app.py\", line 1509, in dispatch_request\n",
      "    return self.ensure_sync(self.view_functions[rule.endpoint])(**req.view_args)\n",
      "  File \"<ipython-input-4-0eb33199dfe2>\", line 18, in mine_block\n",
      "    proof = blockchain.proof_of_work(previous_proof)\n",
      "  File \"<ipython-input-2-3e610d0c6264>\", line 30, in proof_of_work\n",
      "    if hash_operation[:5] == '00000':\n",
      "TypeError: '_hashlib.HASH' object is not subscriptable\n",
      "127.0.0.1 - - [06/Jul/2022 01:10:39] \"GET /mine_block HTTP/1.1\" 500 -\n"
     ]
    }
   ],
   "source": [
    "app.run(host = '0.0.0.0', port = 5000)"
   ]
  }
 ],
 "metadata": {
  "kernelspec": {
   "display_name": "Python 3",
   "language": "python",
   "name": "python3"
  },
  "language_info": {
   "codemirror_mode": {
    "name": "ipython",
    "version": 3
   },
   "file_extension": ".py",
   "mimetype": "text/x-python",
   "name": "python",
   "nbconvert_exporter": "python",
   "pygments_lexer": "ipython3",
   "version": "3.8.5"
  }
 },
 "nbformat": 4,
 "nbformat_minor": 4
}
